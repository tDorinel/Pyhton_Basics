{
 "cells": [
  {
   "cell_type": "code",
   "execution_count": 2,
   "id": "365af8c0",
   "metadata": {},
   "outputs": [
    {
     "name": "stdout",
     "output_type": "stream",
     "text": [
      "Cercul este de culoare albastra\n",
      "Cercul este de culoare verde\n",
      "78.53999999999999\n",
      "314.15999999999997\n",
      "10\n",
      "20\n",
      "31.416\n",
      "62.832\n"
     ]
    }
   ],
   "source": [
    "#Pentru toate clasele, creati cel putin 2 obiecte cu valori diferite si apelati toate metodele clasei\n",
    "\n",
    "#1. Clasa Cerc\n",
    "#Atribute: raza, culoare\n",
    "#Constructor pt ambele atribute\n",
    "#Metode:\n",
    "#descrie_cerc() - va PRINTA culoarea si raza\n",
    "#aria() - va RETURNA aria\n",
    "#diametru()\n",
    "#circumferinta()\n",
    "\n",
    "from pi_values import pi\n",
    "class Cerc:\n",
    "    def __init__(self, raza, culoare):\n",
    "        self.raza = raza\n",
    "        self.culoare = culoare\n",
    "\n",
    "\n",
    "    def descriere_cerc(self):\n",
    "        print(f'Cercul este de culoare {self.culoare}')\n",
    "\n",
    "    def aria(self):\n",
    "        return self.raza**2*pi\n",
    "\n",
    "    def diametru(self):\n",
    "        return self.raza*2\n",
    "\n",
    "    def circumferinta(self):\n",
    "        return self.raza*2*pi\n",
    "\n",
    "\n",
    "c1 = Cerc(5, 'albastra')\n",
    "c2 = Cerc(10, 'verde')\n",
    "\n",
    "c1.descriere_cerc()\n",
    "c2.descriere_cerc()\n",
    "print(c1.aria())\n",
    "print(c2.aria())\n",
    "print(c1.diametru())\n",
    "print(c2.diametru())\n",
    "print(c1.circumferinta())\n",
    "print(c2.circumferinta())\n",
    "\n"
   ]
  },
  {
   "cell_type": "code",
   "execution_count": 3,
   "id": "f29d6ea5",
   "metadata": {
    "scrolled": true
   },
   "outputs": [
    {
     "name": "stdout",
     "output_type": "stream",
     "text": [
      "Dreptunghiul are lungimea de 20, latimea de 10 si culoarea albastru\n",
      "Dreptunghiul are lungimea de 44, latimea de 33 si culoarea turcoaz\n",
      "200\n",
      "1452\n",
      "60\n",
      "154\n",
      "Dreptunghiul are lungimea de 20, latimea de 10 si culoarea galben\n",
      "Dreptunghiul are lungimea de 44, latimea de 33 si culoarea purpuriu\n"
     ]
    }
   ],
   "source": [
    "class Dreptunghi:\n",
    "    def __init__(self, lungime,latime,culoare):\n",
    "        self.lungime = lungime\n",
    "        self.latime = latime\n",
    "        self.culoare = culoare\n",
    "    def descrie_dreptunghi(self):\n",
    "        print(f\"Dreptunghiul are lungimea de {self.lungime}, latimea de {self.latime} si culoarea {self.culoare}\")\n",
    "    def aria(self):\n",
    "        return self.lungime * self.latime\n",
    "    def perimetru(self):\n",
    "        return 2 * self.latime + 2 * self.lungime\n",
    "    def schimba_culoarea(self, culoare_noua):\n",
    "        self.culoare = culoare_noua\n",
    "d1 = Dreptunghi(20,10,\"albastru\")\n",
    "d2 = Dreptunghi(44,33, \"turcoaz\")\n",
    "d1.descrie_dreptunghi()\n",
    "d2.descrie_dreptunghi()\n",
    "print(d1.aria())\n",
    "print(d2.aria())\n",
    "print(d1.perimetru())\n",
    "print(d2.perimetru())\n",
    "d1.schimba_culoarea(\"galben\")\n",
    "d2.schimba_culoarea(\"purpuriu\")\n",
    "d1.descrie_dreptunghi()\n",
    "d2.descrie_dreptunghi()"
   ]
  },
  {
   "cell_type": "code",
   "execution_count": 7,
   "id": "9babc6cb",
   "metadata": {},
   "outputs": [
    {
     "name": "stdout",
     "output_type": "stream",
     "text": [
      "Titularul Todoran are in contul RO2965102985 suma de 4000\n",
      "Titularul Gliga are in contul RO2821709802 suma de 1000\n",
      "Contul RO2965102985 detinut de Todoran a fost debitat cu suma de 2500\n",
      "Contul RO2821709802 detinut de Gliga a fost debitat cu suma de 4500\n",
      "Contul RO2965102985 detinut de Todoran a fost creditat cu suma de 1000\n",
      "Contul RO2821709802 detinut de Gliga a fost creditat cu suma de 4000\n"
     ]
    },
    {
     "ename": "TypeError",
     "evalue": "Cont.afisare_sold_sfarsitul_lunii() missing 2 required positional arguments: 'suma_debitata' and 'suma_creditata'",
     "output_type": "error",
     "traceback": [
      "\u001b[1;31m---------------------------------------------------------------------------\u001b[0m",
      "\u001b[1;31mTypeError\u001b[0m                                 Traceback (most recent call last)",
      "Cell \u001b[1;32mIn [7], line 32\u001b[0m\n\u001b[0;32m     30\u001b[0m cont1\u001b[38;5;241m.\u001b[39mcreditare_cont(\u001b[38;5;241m1000\u001b[39m)\n\u001b[0;32m     31\u001b[0m cont2\u001b[38;5;241m.\u001b[39mcreditare_cont(\u001b[38;5;241m4000\u001b[39m)\n\u001b[1;32m---> 32\u001b[0m \u001b[43mcont1\u001b[49m\u001b[38;5;241;43m.\u001b[39;49m\u001b[43mafisare_sold_sfarsitul_lunii\u001b[49m\u001b[43m(\u001b[49m\u001b[43m)\u001b[49m\n\u001b[0;32m     33\u001b[0m cont2\u001b[38;5;241m.\u001b[39mafisare_sold_sfarsitul_lunii()\n",
      "\u001b[1;31mTypeError\u001b[0m: Cont.afisare_sold_sfarsitul_lunii() missing 2 required positional arguments: 'suma_debitata' and 'suma_creditata'"
     ]
    }
   ],
   "source": [
    "class Cont:\n",
    "    def __init__(self, iban, titular_cont, sold):\n",
    "        self.iban = iban\n",
    "        self.titular_cont = titular_cont\n",
    "        self.sold = sold\n",
    "\n",
    "    def afisare_sold(self):\n",
    "        print(f'Titularul {self.titular_cont} are in contul {self.iban} suma de {self.sold}')\n",
    "\n",
    "    def debitare_cont(self, suma_debitata):\n",
    "        print(f'Contul {self.iban} detinut de {self.titular_cont} a fost debitat cu suma de {suma_debitata}')\n",
    "\n",
    "    def creditare_cont(self, suma_creditata):\n",
    "        print(f'Contul {self.iban} detinut de {self.titular_cont} a fost creditat cu suma de {suma_creditata}')\n",
    "\n",
    "    def afisare_sold_sfarsitul_lunii(self,suma_debitata, suma_creditata):\n",
    "        rulaj = suma_debitata-suma_creditata\n",
    "        sold_nou = self.sold + rulaj\n",
    "        print(f'Soldul contului {self.iban} detinut de {self.titular_cont} este de {sold_nou}')\n",
    "\n",
    "\n",
    "cont1 = Cont('RO2965102985', 'Todoran', 4000)\n",
    "cont2 = Cont('RO2821709802', 'Gliga', 1000)\n",
    "\n",
    "\n",
    "cont1.afisare_sold()\n",
    "cont2.afisare_sold()\n",
    "cont1.debitare_cont(2500)\n",
    "cont2.debitare_cont(4500)\n",
    "cont1.creditare_cont(1000)\n",
    "cont2.creditare_cont(4000)\n",
    "cont1.afisare_sold_sfarsitul_lunii()\n",
    "cont2.afisare_sold_sfarsitul_lunii()"
   ]
  },
  {
   "cell_type": "code",
   "execution_count": null,
   "id": "ca27faf5",
   "metadata": {},
   "outputs": [],
   "source": []
  },
  {
   "cell_type": "code",
   "execution_count": null,
   "id": "69a1e385",
   "metadata": {},
   "outputs": [],
   "source": []
  },
  {
   "cell_type": "code",
   "execution_count": null,
   "id": "1ffa65ce",
   "metadata": {},
   "outputs": [],
   "source": []
  }
 ],
 "metadata": {
  "kernelspec": {
   "display_name": "Python 3 (ipykernel)",
   "language": "python",
   "name": "python3"
  },
  "language_info": {
   "codemirror_mode": {
    "name": "ipython",
    "version": 3
   },
   "file_extension": ".py",
   "mimetype": "text/x-python",
   "name": "python",
   "nbconvert_exporter": "python",
   "pygments_lexer": "ipython3",
   "version": "3.10.6"
  }
 },
 "nbformat": 4,
 "nbformat_minor": 5
}
