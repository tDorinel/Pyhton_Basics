{
 "cells": [
  {
   "cell_type": "code",
   "execution_count": 3,
   "id": "dbb4274d",
   "metadata": {},
   "outputs": [
    {
     "name": "stdout",
     "output_type": "stream",
     "text": [
      "[-5, -7, -3, -9, -3, -3, -1, 0, 4, -3]\n"
     ]
    }
   ],
   "source": [
    "#tema 4 - exercitiul 10\n",
    "\n",
    "numere = [5, 7, 3, 9, 3, 3, 1, 0, -4, 3]\n",
    "\n",
    "for x in range(len(numere)):\n",
    "    if numere[x]:\n",
    "        numere [x] = -numere[x]\n",
    "print(numere)"
   ]
  },
  {
   "cell_type": "code",
   "execution_count": 4,
   "id": "fe3f59fa",
   "metadata": {},
   "outputs": [
    {
     "name": "stdout",
     "output_type": "stream",
     "text": [
      "[-5, -7, -3, -9, -3, -3, -1, 0, -4, -3]\n"
     ]
    }
   ],
   "source": [
    "#tema 4 - exercitiul 10\n",
    "numere = [5, 7, 3, 9, 3, 3, 1, 0, -4, 3]\n",
    "\n",
    "for x in range(len(numere)):\n",
    "    numere[x] = -abs(numere[x])\n",
    "print(numere)\n",
    "\n"
   ]
  },
  {
   "cell_type": "code",
   "execution_count": 21,
   "id": "3eefe6f4",
   "metadata": {},
   "outputs": [
    {
     "name": "stdout",
     "output_type": "stream",
     "text": [
      "['Audi', 'Volvo', 'BMW', 'Mercedes', 'Aston Martin', 'Fiat', 'Opel', 'Tesla']\n",
      "['Lastun', 'Trabant']\n"
     ]
    }
   ],
   "source": [
    "#tema 4 - exercitul 5\n",
    "\n",
    "#Modernizati parcul de masini\n",
    "#Creati o lista goala, masini_vechi\n",
    "#Iterati prin masini\n",
    "#Cand gasiti Lastun sau Trabant:\n",
    "#Salvati aceste masini in masini_vechi\n",
    "#Suprascrieti-le cu ‘Tesla’ (in lista initiala de masini)\n",
    "#Printati Modele vechi: x\n",
    "#Modele noi: x\n",
    "\n",
    "masini = ['Audi', 'Volvo', 'BMW', 'Mercedes', 'Aston Martin', 'Lastun', 'Fiat', 'Trabant', 'Opel']\n",
    "\n",
    "masini_vechi =[]\n",
    "\n",
    "for x in masini:\n",
    "    if x in  ('Trabant', 'Lastun'):\n",
    "        masini_vechi.append(x)\n",
    "        masini.remove(x)\n",
    "        if 'Tesla' not in masini:\n",
    "            masini.append('Tesla')\n",
    "        \n",
    "print(masini)\n",
    "print(masini_vechi)\n",
    "        \n",
    "        \n"
   ]
  },
  {
   "cell_type": "code",
   "execution_count": 22,
   "id": "e849dafe",
   "metadata": {},
   "outputs": [
    {
     "name": "stdout",
     "output_type": "stream",
     "text": [
      "['Audi', 'Volvo', 'BMW', 'Mercedes', 'Aston Martin', 'Tesla', 'Fiat', 'Tesla', 'Opel']\n"
     ]
    }
   ],
   "source": [
    "#tema 4 - exercitul 5\n",
    "\n",
    "#Modernizati parcul de masini\n",
    "#Creati o lista goala, masini_vechi\n",
    "#Iterati prin masini\n",
    "#Cand gasiti Lastun sau Trabant:\n",
    "#Salvati aceste masini in masini_vechi\n",
    "#Suprascrieti-le cu ‘Tesla’ (in lista initiala de masini)\n",
    "#Printati Modele vechi: x\n",
    "#Modele noi: x\n",
    "masini = ['Audi', 'Volvo', 'BMW', 'Mercedes', 'Aston Martin','Lastun', 'Fiat',  'Trabant', 'Opel']\n",
    "\n",
    "masini_vechi =[]\n",
    "\n",
    "for x in range(len(masini)):\n",
    "    if masini[x] in  ('Trabant', 'Lastun'):\n",
    "        masini_vechi.append(masini[x])\n",
    "        masini[x] = ('Tesla')\n",
    "print(masini)\n",
    "        "
   ]
  },
  {
   "cell_type": "code",
   "execution_count": null,
   "id": "c87fa42e",
   "metadata": {},
   "outputs": [],
   "source": []
  },
  {
   "cell_type": "code",
   "execution_count": null,
   "id": "48d38693",
   "metadata": {},
   "outputs": [],
   "source": []
  },
  {
   "cell_type": "code",
   "execution_count": null,
   "id": "545736ed",
   "metadata": {},
   "outputs": [],
   "source": []
  }
 ],
 "metadata": {
  "kernelspec": {
   "display_name": "Python 3 (ipykernel)",
   "language": "python",
   "name": "python3"
  },
  "language_info": {
   "codemirror_mode": {
    "name": "ipython",
    "version": 3
   },
   "file_extension": ".py",
   "mimetype": "text/x-python",
   "name": "python",
   "nbconvert_exporter": "python",
   "pygments_lexer": "ipython3",
   "version": "3.10.6"
  }
 },
 "nbformat": 4,
 "nbformat_minor": 5
}
